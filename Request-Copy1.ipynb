{
 "cells": [
  {
   "cell_type": "code",
   "execution_count": 2,
   "id": "eca80a97",
   "metadata": {},
   "outputs": [],
   "source": [
    "import requests "
   ]
  },
  {
   "cell_type": "code",
   "execution_count": 5,
   "id": "4b34960b",
   "metadata": {},
   "outputs": [
    {
     "name": "stdout",
     "output_type": "stream",
     "text": [
      "<Response [200]>\n",
      "{'total_vendas': 3026.1000000000004}\n",
      "3026.1000000000004\n"
     ]
    }
   ],
   "source": [
    "link = 'https://Minha-Api.victoro8.repl.co/pegarvendas'\n",
    "\n",
    "requisicao = requests.get(link)\n",
    "print(requisicao)\n",
    "print( requisicao.json())\n",
    "\n",
    "dicionario = requisicao.json()\n",
    "\n",
    "print(dicionario['total_vendas'])"
   ]
  }
 ],
 "metadata": {
  "kernelspec": {
   "display_name": "Python 3 (ipykernel)",
   "language": "python",
   "name": "python3"
  },
  "language_info": {
   "codemirror_mode": {
    "name": "ipython",
    "version": 3
   },
   "file_extension": ".py",
   "mimetype": "text/x-python",
   "name": "python",
   "nbconvert_exporter": "python",
   "pygments_lexer": "ipython3",
   "version": "3.9.12"
  }
 },
 "nbformat": 4,
 "nbformat_minor": 5
}
